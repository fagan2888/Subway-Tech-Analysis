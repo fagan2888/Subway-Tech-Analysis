{
 "cells": [
  {
   "cell_type": "markdown",
   "metadata": {},
   "source": [
    "\n",
    "# Overview: \n",
    "### What needs to be done or the general plan:\n",
    "\n",
    "### (1) On this website are 380 pages of startups that follow the following rule: \n",
    "- http://www.digital.nyc/startups\n",
    "- http://www.digital.nyc/startups?page=1\n",
    "...\n",
    "- http://www.digital.nyc/startups?page=380\n",
    "\n",
    "### (2) Out of each page, extract out:\n",
    "- Startup name : Next Island LLC\n",
    "- Website on the digital thing: http://www.digital.nyc/startups/next-island-llc\n",
    "\n",
    "###  (3) Go to the website: e.g. \n",
    "- http://www.digital.nyc/startups/next-island-llc\n",
    "\n",
    "### (4) Pull the \"Script\" via beautiful soup:\n",
    "- <script>jQuery.extend(Drupal.settings, ...\n",
    "\n",
    "# Select out the lat & long values\n",
    "\"center\":{\"lat\":\"\",\"lon\":\"\",\"geocode\":\"Find my location\"}},\"data\":{\"type\":\"Point\",\"coordinates\":[-74.006,40.7144],\""
   ]
  },
  {
   "cell_type": "markdown",
   "metadata": {},
   "source": [
    "## Step 0 - Import libraries and scripts"
   ]
  },
  {
   "cell_type": "code",
   "execution_count": 29,
   "metadata": {
    "collapsed": false
   },
   "outputs": [
    {
     "name": "stdout",
     "output_type": "stream",
     "text": [
      "The autoreload extension is already loaded. To reload it, use:\n",
      "  %reload_ext autoreload\n"
     ]
    }
   ],
   "source": [
    "%load_ext autoreload\n",
    "%autoreload 2\n",
    "from IPython.lib.deepreload import reload as dreload"
   ]
  },
  {
   "cell_type": "code",
   "execution_count": 30,
   "metadata": {
    "collapsed": false
   },
   "outputs": [
    {
     "ename": "ImportError",
     "evalue": "cannot import name get_company_links",
     "output_type": "error",
     "traceback": [
      "\u001b[0;31m---------------------------------------------------------------------------\u001b[0m",
      "\u001b[0;31mImportError\u001b[0m                               Traceback (most recent call last)",
      "\u001b[0;32m<ipython-input-30-d27913e31626>\u001b[0m in \u001b[0;36m<module>\u001b[0;34m()\u001b[0m\n\u001b[1;32m      9\u001b[0m \u001b[0mos\u001b[0m\u001b[0;34m.\u001b[0m\u001b[0mchdir\u001b[0m\u001b[0;34m(\u001b[0m\u001b[0;34m\"../scripts/\"\u001b[0m\u001b[0;34m)\u001b[0m\u001b[0;34m\u001b[0m\u001b[0m\n\u001b[1;32m     10\u001b[0m \u001b[0;31m#from scraping_startups import temp_func\u001b[0m\u001b[0;34m\u001b[0m\u001b[0;34m\u001b[0m\u001b[0m\n\u001b[0;32m---> 11\u001b[0;31m \u001b[0;32mfrom\u001b[0m \u001b[0mscraping_startups\u001b[0m \u001b[0;32mimport\u001b[0m \u001b[0mget_company_links\u001b[0m\u001b[0;34m\u001b[0m\u001b[0m\n\u001b[0m",
      "\u001b[0;31mImportError\u001b[0m: cannot import name get_company_links"
     ]
    }
   ],
   "source": [
    "# Importing Generic Libraries\n",
    "import requests\n",
    "import json\n",
    "from bs4 import BeautifulSoup\n",
    "import pprint\n",
    "import os\n",
    "\n",
    "# Importing Generic Libraries\n",
    "os.chdir(\"../scripts/\")\n",
    "#from scraping_startups import temp_func\n",
    "from scraping_startups import get_company_links"
   ]
  },
  {
   "cell_type": "markdown",
   "metadata": {},
   "source": [
    "## Step 1 - Generate the list of \"directory pages\" which each have a set of individual companies and their corresponding Digital NYC urls. "
   ]
  },
  {
   "cell_type": "code",
   "execution_count": 19,
   "metadata": {
    "collapsed": true
   },
   "outputs": [],
   "source": [
    "digital_nyc_startups_pages_list = [\"http://www.digital.nyc/startups\"] + [\"http://www.digital.nyc/startups?page=\" + str(i) for i in range(1,380)]"
   ]
  },
  {
   "cell_type": "code",
   "execution_count": null,
   "metadata": {
    "collapsed": true
   },
   "outputs": [],
   "source": [
    "## Step 1 - Generate the list of \"directory pages\" which each have a set of individual companies and their corresponding Digital NYC urls. "
   ]
  },
  {
   "cell_type": "markdown",
   "metadata": {},
   "source": [
    "## Step 2 - Go through all those  'http://www.digital.nyc/startups?page=7', links and compile a list of individual companies"
   ]
  },
  {
   "cell_type": "code",
   "execution_count": null,
   "metadata": {
    "collapsed": true
   },
   "outputs": [],
   "source": []
  },
  {
   "cell_type": "code",
   "execution_count": null,
   "metadata": {
    "collapsed": true
   },
   "outputs": [],
   "source": []
  },
  {
   "cell_type": "code",
   "execution_count": 20,
   "metadata": {
    "collapsed": false
   },
   "outputs": [
    {
     "data": {
      "text/plain": [
       "True"
      ]
     },
     "execution_count": 20,
     "metadata": {},
     "output_type": "execute_result"
    }
   ],
   "source": [
    "pages == digital_nyc_startups_pages_list"
   ]
  },
  {
   "cell_type": "code",
   "execution_count": 13,
   "metadata": {
    "collapsed": false
   },
   "outputs": [
    {
     "data": {
      "text/plain": [
       "['http://www.digital.nyc/startups',\n",
       " 'http://www.digital.nyc/startups?page=1',\n",
       " 'http://www.digital.nyc/startups?page=2',\n",
       " 'http://www.digital.nyc/startups?page=3',\n",
       " 'http://www.digital.nyc/startups?page=4',\n",
       " 'http://www.digital.nyc/startups?page=5',\n",
       " 'http://www.digital.nyc/startups?page=6',\n",
       " 'http://www.digital.nyc/startups?page=7',\n",
       " 'http://www.digital.nyc/startups?page=8',\n",
       " 'http://www.digital.nyc/startups?page=9',\n",
       " 'http://www.digital.nyc/startups?page=10',\n",
       " 'http://www.digital.nyc/startups?page=11',\n",
       " 'http://www.digital.nyc/startups?page=12',\n",
       " 'http://www.digital.nyc/startups?page=13',\n",
       " 'http://www.digital.nyc/startups?page=14',\n",
       " 'http://www.digital.nyc/startups?page=15',\n",
       " 'http://www.digital.nyc/startups?page=16',\n",
       " 'http://www.digital.nyc/startups?page=17',\n",
       " 'http://www.digital.nyc/startups?page=18',\n",
       " 'http://www.digital.nyc/startups?page=19',\n",
       " 'http://www.digital.nyc/startups?page=20',\n",
       " 'http://www.digital.nyc/startups?page=21',\n",
       " 'http://www.digital.nyc/startups?page=22',\n",
       " 'http://www.digital.nyc/startups?page=23',\n",
       " 'http://www.digital.nyc/startups?page=24',\n",
       " 'http://www.digital.nyc/startups?page=25',\n",
       " 'http://www.digital.nyc/startups?page=26',\n",
       " 'http://www.digital.nyc/startups?page=27',\n",
       " 'http://www.digital.nyc/startups?page=28',\n",
       " 'http://www.digital.nyc/startups?page=29',\n",
       " 'http://www.digital.nyc/startups?page=30',\n",
       " 'http://www.digital.nyc/startups?page=31',\n",
       " 'http://www.digital.nyc/startups?page=32',\n",
       " 'http://www.digital.nyc/startups?page=33',\n",
       " 'http://www.digital.nyc/startups?page=34',\n",
       " 'http://www.digital.nyc/startups?page=35',\n",
       " 'http://www.digital.nyc/startups?page=36',\n",
       " 'http://www.digital.nyc/startups?page=37',\n",
       " 'http://www.digital.nyc/startups?page=38',\n",
       " 'http://www.digital.nyc/startups?page=39',\n",
       " 'http://www.digital.nyc/startups?page=40',\n",
       " 'http://www.digital.nyc/startups?page=41',\n",
       " 'http://www.digital.nyc/startups?page=42',\n",
       " 'http://www.digital.nyc/startups?page=43',\n",
       " 'http://www.digital.nyc/startups?page=44',\n",
       " 'http://www.digital.nyc/startups?page=45',\n",
       " 'http://www.digital.nyc/startups?page=46',\n",
       " 'http://www.digital.nyc/startups?page=47',\n",
       " 'http://www.digital.nyc/startups?page=48',\n",
       " 'http://www.digital.nyc/startups?page=49',\n",
       " 'http://www.digital.nyc/startups?page=50',\n",
       " 'http://www.digital.nyc/startups?page=51',\n",
       " 'http://www.digital.nyc/startups?page=52',\n",
       " 'http://www.digital.nyc/startups?page=53',\n",
       " 'http://www.digital.nyc/startups?page=54',\n",
       " 'http://www.digital.nyc/startups?page=55',\n",
       " 'http://www.digital.nyc/startups?page=56',\n",
       " 'http://www.digital.nyc/startups?page=57',\n",
       " 'http://www.digital.nyc/startups?page=58',\n",
       " 'http://www.digital.nyc/startups?page=59',\n",
       " 'http://www.digital.nyc/startups?page=60',\n",
       " 'http://www.digital.nyc/startups?page=61',\n",
       " 'http://www.digital.nyc/startups?page=62',\n",
       " 'http://www.digital.nyc/startups?page=63',\n",
       " 'http://www.digital.nyc/startups?page=64',\n",
       " 'http://www.digital.nyc/startups?page=65',\n",
       " 'http://www.digital.nyc/startups?page=66',\n",
       " 'http://www.digital.nyc/startups?page=67',\n",
       " 'http://www.digital.nyc/startups?page=68',\n",
       " 'http://www.digital.nyc/startups?page=69',\n",
       " 'http://www.digital.nyc/startups?page=70',\n",
       " 'http://www.digital.nyc/startups?page=71',\n",
       " 'http://www.digital.nyc/startups?page=72',\n",
       " 'http://www.digital.nyc/startups?page=73',\n",
       " 'http://www.digital.nyc/startups?page=74',\n",
       " 'http://www.digital.nyc/startups?page=75',\n",
       " 'http://www.digital.nyc/startups?page=76',\n",
       " 'http://www.digital.nyc/startups?page=77',\n",
       " 'http://www.digital.nyc/startups?page=78',\n",
       " 'http://www.digital.nyc/startups?page=79',\n",
       " 'http://www.digital.nyc/startups?page=80',\n",
       " 'http://www.digital.nyc/startups?page=81',\n",
       " 'http://www.digital.nyc/startups?page=82',\n",
       " 'http://www.digital.nyc/startups?page=83',\n",
       " 'http://www.digital.nyc/startups?page=84',\n",
       " 'http://www.digital.nyc/startups?page=85',\n",
       " 'http://www.digital.nyc/startups?page=86',\n",
       " 'http://www.digital.nyc/startups?page=87',\n",
       " 'http://www.digital.nyc/startups?page=88',\n",
       " 'http://www.digital.nyc/startups?page=89',\n",
       " 'http://www.digital.nyc/startups?page=90',\n",
       " 'http://www.digital.nyc/startups?page=91',\n",
       " 'http://www.digital.nyc/startups?page=92',\n",
       " 'http://www.digital.nyc/startups?page=93',\n",
       " 'http://www.digital.nyc/startups?page=94',\n",
       " 'http://www.digital.nyc/startups?page=95',\n",
       " 'http://www.digital.nyc/startups?page=96',\n",
       " 'http://www.digital.nyc/startups?page=97',\n",
       " 'http://www.digital.nyc/startups?page=98',\n",
       " 'http://www.digital.nyc/startups?page=99',\n",
       " 'http://www.digital.nyc/startups?page=100',\n",
       " 'http://www.digital.nyc/startups?page=101',\n",
       " 'http://www.digital.nyc/startups?page=102',\n",
       " 'http://www.digital.nyc/startups?page=103',\n",
       " 'http://www.digital.nyc/startups?page=104',\n",
       " 'http://www.digital.nyc/startups?page=105',\n",
       " 'http://www.digital.nyc/startups?page=106',\n",
       " 'http://www.digital.nyc/startups?page=107',\n",
       " 'http://www.digital.nyc/startups?page=108',\n",
       " 'http://www.digital.nyc/startups?page=109',\n",
       " 'http://www.digital.nyc/startups?page=110',\n",
       " 'http://www.digital.nyc/startups?page=111',\n",
       " 'http://www.digital.nyc/startups?page=112',\n",
       " 'http://www.digital.nyc/startups?page=113',\n",
       " 'http://www.digital.nyc/startups?page=114',\n",
       " 'http://www.digital.nyc/startups?page=115',\n",
       " 'http://www.digital.nyc/startups?page=116',\n",
       " 'http://www.digital.nyc/startups?page=117',\n",
       " 'http://www.digital.nyc/startups?page=118',\n",
       " 'http://www.digital.nyc/startups?page=119',\n",
       " 'http://www.digital.nyc/startups?page=120',\n",
       " 'http://www.digital.nyc/startups?page=121',\n",
       " 'http://www.digital.nyc/startups?page=122',\n",
       " 'http://www.digital.nyc/startups?page=123',\n",
       " 'http://www.digital.nyc/startups?page=124',\n",
       " 'http://www.digital.nyc/startups?page=125',\n",
       " 'http://www.digital.nyc/startups?page=126',\n",
       " 'http://www.digital.nyc/startups?page=127',\n",
       " 'http://www.digital.nyc/startups?page=128',\n",
       " 'http://www.digital.nyc/startups?page=129',\n",
       " 'http://www.digital.nyc/startups?page=130',\n",
       " 'http://www.digital.nyc/startups?page=131',\n",
       " 'http://www.digital.nyc/startups?page=132',\n",
       " 'http://www.digital.nyc/startups?page=133',\n",
       " 'http://www.digital.nyc/startups?page=134',\n",
       " 'http://www.digital.nyc/startups?page=135',\n",
       " 'http://www.digital.nyc/startups?page=136',\n",
       " 'http://www.digital.nyc/startups?page=137',\n",
       " 'http://www.digital.nyc/startups?page=138',\n",
       " 'http://www.digital.nyc/startups?page=139',\n",
       " 'http://www.digital.nyc/startups?page=140',\n",
       " 'http://www.digital.nyc/startups?page=141',\n",
       " 'http://www.digital.nyc/startups?page=142',\n",
       " 'http://www.digital.nyc/startups?page=143',\n",
       " 'http://www.digital.nyc/startups?page=144',\n",
       " 'http://www.digital.nyc/startups?page=145',\n",
       " 'http://www.digital.nyc/startups?page=146',\n",
       " 'http://www.digital.nyc/startups?page=147',\n",
       " 'http://www.digital.nyc/startups?page=148',\n",
       " 'http://www.digital.nyc/startups?page=149',\n",
       " 'http://www.digital.nyc/startups?page=150',\n",
       " 'http://www.digital.nyc/startups?page=151',\n",
       " 'http://www.digital.nyc/startups?page=152',\n",
       " 'http://www.digital.nyc/startups?page=153',\n",
       " 'http://www.digital.nyc/startups?page=154',\n",
       " 'http://www.digital.nyc/startups?page=155',\n",
       " 'http://www.digital.nyc/startups?page=156',\n",
       " 'http://www.digital.nyc/startups?page=157',\n",
       " 'http://www.digital.nyc/startups?page=158',\n",
       " 'http://www.digital.nyc/startups?page=159',\n",
       " 'http://www.digital.nyc/startups?page=160',\n",
       " 'http://www.digital.nyc/startups?page=161',\n",
       " 'http://www.digital.nyc/startups?page=162',\n",
       " 'http://www.digital.nyc/startups?page=163',\n",
       " 'http://www.digital.nyc/startups?page=164',\n",
       " 'http://www.digital.nyc/startups?page=165',\n",
       " 'http://www.digital.nyc/startups?page=166',\n",
       " 'http://www.digital.nyc/startups?page=167',\n",
       " 'http://www.digital.nyc/startups?page=168',\n",
       " 'http://www.digital.nyc/startups?page=169',\n",
       " 'http://www.digital.nyc/startups?page=170',\n",
       " 'http://www.digital.nyc/startups?page=171',\n",
       " 'http://www.digital.nyc/startups?page=172',\n",
       " 'http://www.digital.nyc/startups?page=173',\n",
       " 'http://www.digital.nyc/startups?page=174',\n",
       " 'http://www.digital.nyc/startups?page=175',\n",
       " 'http://www.digital.nyc/startups?page=176',\n",
       " 'http://www.digital.nyc/startups?page=177',\n",
       " 'http://www.digital.nyc/startups?page=178',\n",
       " 'http://www.digital.nyc/startups?page=179',\n",
       " 'http://www.digital.nyc/startups?page=180',\n",
       " 'http://www.digital.nyc/startups?page=181',\n",
       " 'http://www.digital.nyc/startups?page=182',\n",
       " 'http://www.digital.nyc/startups?page=183',\n",
       " 'http://www.digital.nyc/startups?page=184',\n",
       " 'http://www.digital.nyc/startups?page=185',\n",
       " 'http://www.digital.nyc/startups?page=186',\n",
       " 'http://www.digital.nyc/startups?page=187',\n",
       " 'http://www.digital.nyc/startups?page=188',\n",
       " 'http://www.digital.nyc/startups?page=189',\n",
       " 'http://www.digital.nyc/startups?page=190',\n",
       " 'http://www.digital.nyc/startups?page=191',\n",
       " 'http://www.digital.nyc/startups?page=192',\n",
       " 'http://www.digital.nyc/startups?page=193',\n",
       " 'http://www.digital.nyc/startups?page=194',\n",
       " 'http://www.digital.nyc/startups?page=195',\n",
       " 'http://www.digital.nyc/startups?page=196',\n",
       " 'http://www.digital.nyc/startups?page=197',\n",
       " 'http://www.digital.nyc/startups?page=198',\n",
       " 'http://www.digital.nyc/startups?page=199',\n",
       " 'http://www.digital.nyc/startups?page=200',\n",
       " 'http://www.digital.nyc/startups?page=201',\n",
       " 'http://www.digital.nyc/startups?page=202',\n",
       " 'http://www.digital.nyc/startups?page=203',\n",
       " 'http://www.digital.nyc/startups?page=204',\n",
       " 'http://www.digital.nyc/startups?page=205',\n",
       " 'http://www.digital.nyc/startups?page=206',\n",
       " 'http://www.digital.nyc/startups?page=207',\n",
       " 'http://www.digital.nyc/startups?page=208',\n",
       " 'http://www.digital.nyc/startups?page=209',\n",
       " 'http://www.digital.nyc/startups?page=210',\n",
       " 'http://www.digital.nyc/startups?page=211',\n",
       " 'http://www.digital.nyc/startups?page=212',\n",
       " 'http://www.digital.nyc/startups?page=213',\n",
       " 'http://www.digital.nyc/startups?page=214',\n",
       " 'http://www.digital.nyc/startups?page=215',\n",
       " 'http://www.digital.nyc/startups?page=216',\n",
       " 'http://www.digital.nyc/startups?page=217',\n",
       " 'http://www.digital.nyc/startups?page=218',\n",
       " 'http://www.digital.nyc/startups?page=219',\n",
       " 'http://www.digital.nyc/startups?page=220',\n",
       " 'http://www.digital.nyc/startups?page=221',\n",
       " 'http://www.digital.nyc/startups?page=222',\n",
       " 'http://www.digital.nyc/startups?page=223',\n",
       " 'http://www.digital.nyc/startups?page=224',\n",
       " 'http://www.digital.nyc/startups?page=225',\n",
       " 'http://www.digital.nyc/startups?page=226',\n",
       " 'http://www.digital.nyc/startups?page=227',\n",
       " 'http://www.digital.nyc/startups?page=228',\n",
       " 'http://www.digital.nyc/startups?page=229',\n",
       " 'http://www.digital.nyc/startups?page=230',\n",
       " 'http://www.digital.nyc/startups?page=231',\n",
       " 'http://www.digital.nyc/startups?page=232',\n",
       " 'http://www.digital.nyc/startups?page=233',\n",
       " 'http://www.digital.nyc/startups?page=234',\n",
       " 'http://www.digital.nyc/startups?page=235',\n",
       " 'http://www.digital.nyc/startups?page=236',\n",
       " 'http://www.digital.nyc/startups?page=237',\n",
       " 'http://www.digital.nyc/startups?page=238',\n",
       " 'http://www.digital.nyc/startups?page=239',\n",
       " 'http://www.digital.nyc/startups?page=240',\n",
       " 'http://www.digital.nyc/startups?page=241',\n",
       " 'http://www.digital.nyc/startups?page=242',\n",
       " 'http://www.digital.nyc/startups?page=243',\n",
       " 'http://www.digital.nyc/startups?page=244',\n",
       " 'http://www.digital.nyc/startups?page=245',\n",
       " 'http://www.digital.nyc/startups?page=246',\n",
       " 'http://www.digital.nyc/startups?page=247',\n",
       " 'http://www.digital.nyc/startups?page=248',\n",
       " 'http://www.digital.nyc/startups?page=249',\n",
       " 'http://www.digital.nyc/startups?page=250',\n",
       " 'http://www.digital.nyc/startups?page=251',\n",
       " 'http://www.digital.nyc/startups?page=252',\n",
       " 'http://www.digital.nyc/startups?page=253',\n",
       " 'http://www.digital.nyc/startups?page=254',\n",
       " 'http://www.digital.nyc/startups?page=255',\n",
       " 'http://www.digital.nyc/startups?page=256',\n",
       " 'http://www.digital.nyc/startups?page=257',\n",
       " 'http://www.digital.nyc/startups?page=258',\n",
       " 'http://www.digital.nyc/startups?page=259',\n",
       " 'http://www.digital.nyc/startups?page=260',\n",
       " 'http://www.digital.nyc/startups?page=261',\n",
       " 'http://www.digital.nyc/startups?page=262',\n",
       " 'http://www.digital.nyc/startups?page=263',\n",
       " 'http://www.digital.nyc/startups?page=264',\n",
       " 'http://www.digital.nyc/startups?page=265',\n",
       " 'http://www.digital.nyc/startups?page=266',\n",
       " 'http://www.digital.nyc/startups?page=267',\n",
       " 'http://www.digital.nyc/startups?page=268',\n",
       " 'http://www.digital.nyc/startups?page=269',\n",
       " 'http://www.digital.nyc/startups?page=270',\n",
       " 'http://www.digital.nyc/startups?page=271',\n",
       " 'http://www.digital.nyc/startups?page=272',\n",
       " 'http://www.digital.nyc/startups?page=273',\n",
       " 'http://www.digital.nyc/startups?page=274',\n",
       " 'http://www.digital.nyc/startups?page=275',\n",
       " 'http://www.digital.nyc/startups?page=276',\n",
       " 'http://www.digital.nyc/startups?page=277',\n",
       " 'http://www.digital.nyc/startups?page=278',\n",
       " 'http://www.digital.nyc/startups?page=279',\n",
       " 'http://www.digital.nyc/startups?page=280',\n",
       " 'http://www.digital.nyc/startups?page=281',\n",
       " 'http://www.digital.nyc/startups?page=282',\n",
       " 'http://www.digital.nyc/startups?page=283',\n",
       " 'http://www.digital.nyc/startups?page=284',\n",
       " 'http://www.digital.nyc/startups?page=285',\n",
       " 'http://www.digital.nyc/startups?page=286',\n",
       " 'http://www.digital.nyc/startups?page=287',\n",
       " 'http://www.digital.nyc/startups?page=288',\n",
       " 'http://www.digital.nyc/startups?page=289',\n",
       " 'http://www.digital.nyc/startups?page=290',\n",
       " 'http://www.digital.nyc/startups?page=291',\n",
       " 'http://www.digital.nyc/startups?page=292',\n",
       " 'http://www.digital.nyc/startups?page=293',\n",
       " 'http://www.digital.nyc/startups?page=294',\n",
       " 'http://www.digital.nyc/startups?page=295',\n",
       " 'http://www.digital.nyc/startups?page=296',\n",
       " 'http://www.digital.nyc/startups?page=297',\n",
       " 'http://www.digital.nyc/startups?page=298',\n",
       " 'http://www.digital.nyc/startups?page=299',\n",
       " 'http://www.digital.nyc/startups?page=300',\n",
       " 'http://www.digital.nyc/startups?page=301',\n",
       " 'http://www.digital.nyc/startups?page=302',\n",
       " 'http://www.digital.nyc/startups?page=303',\n",
       " 'http://www.digital.nyc/startups?page=304',\n",
       " 'http://www.digital.nyc/startups?page=305',\n",
       " 'http://www.digital.nyc/startups?page=306',\n",
       " 'http://www.digital.nyc/startups?page=307',\n",
       " 'http://www.digital.nyc/startups?page=308',\n",
       " 'http://www.digital.nyc/startups?page=309',\n",
       " 'http://www.digital.nyc/startups?page=310',\n",
       " 'http://www.digital.nyc/startups?page=311',\n",
       " 'http://www.digital.nyc/startups?page=312',\n",
       " 'http://www.digital.nyc/startups?page=313',\n",
       " 'http://www.digital.nyc/startups?page=314',\n",
       " 'http://www.digital.nyc/startups?page=315',\n",
       " 'http://www.digital.nyc/startups?page=316',\n",
       " 'http://www.digital.nyc/startups?page=317',\n",
       " 'http://www.digital.nyc/startups?page=318',\n",
       " 'http://www.digital.nyc/startups?page=319',\n",
       " 'http://www.digital.nyc/startups?page=320',\n",
       " 'http://www.digital.nyc/startups?page=321',\n",
       " 'http://www.digital.nyc/startups?page=322',\n",
       " 'http://www.digital.nyc/startups?page=323',\n",
       " 'http://www.digital.nyc/startups?page=324',\n",
       " 'http://www.digital.nyc/startups?page=325',\n",
       " 'http://www.digital.nyc/startups?page=326',\n",
       " 'http://www.digital.nyc/startups?page=327',\n",
       " 'http://www.digital.nyc/startups?page=328',\n",
       " 'http://www.digital.nyc/startups?page=329',\n",
       " 'http://www.digital.nyc/startups?page=330',\n",
       " 'http://www.digital.nyc/startups?page=331',\n",
       " 'http://www.digital.nyc/startups?page=332',\n",
       " 'http://www.digital.nyc/startups?page=333',\n",
       " 'http://www.digital.nyc/startups?page=334',\n",
       " 'http://www.digital.nyc/startups?page=335',\n",
       " 'http://www.digital.nyc/startups?page=336',\n",
       " 'http://www.digital.nyc/startups?page=337',\n",
       " 'http://www.digital.nyc/startups?page=338',\n",
       " 'http://www.digital.nyc/startups?page=339',\n",
       " 'http://www.digital.nyc/startups?page=340',\n",
       " 'http://www.digital.nyc/startups?page=341',\n",
       " 'http://www.digital.nyc/startups?page=342',\n",
       " 'http://www.digital.nyc/startups?page=343',\n",
       " 'http://www.digital.nyc/startups?page=344',\n",
       " 'http://www.digital.nyc/startups?page=345',\n",
       " 'http://www.digital.nyc/startups?page=346',\n",
       " 'http://www.digital.nyc/startups?page=347',\n",
       " 'http://www.digital.nyc/startups?page=348',\n",
       " 'http://www.digital.nyc/startups?page=349',\n",
       " 'http://www.digital.nyc/startups?page=350',\n",
       " 'http://www.digital.nyc/startups?page=351',\n",
       " 'http://www.digital.nyc/startups?page=352',\n",
       " 'http://www.digital.nyc/startups?page=353',\n",
       " 'http://www.digital.nyc/startups?page=354',\n",
       " 'http://www.digital.nyc/startups?page=355',\n",
       " 'http://www.digital.nyc/startups?page=356',\n",
       " 'http://www.digital.nyc/startups?page=357',\n",
       " 'http://www.digital.nyc/startups?page=358',\n",
       " 'http://www.digital.nyc/startups?page=359',\n",
       " 'http://www.digital.nyc/startups?page=360',\n",
       " 'http://www.digital.nyc/startups?page=361',\n",
       " 'http://www.digital.nyc/startups?page=362',\n",
       " 'http://www.digital.nyc/startups?page=363',\n",
       " 'http://www.digital.nyc/startups?page=364',\n",
       " 'http://www.digital.nyc/startups?page=365',\n",
       " 'http://www.digital.nyc/startups?page=366',\n",
       " 'http://www.digital.nyc/startups?page=367',\n",
       " 'http://www.digital.nyc/startups?page=368',\n",
       " 'http://www.digital.nyc/startups?page=369',\n",
       " 'http://www.digital.nyc/startups?page=370',\n",
       " 'http://www.digital.nyc/startups?page=371',\n",
       " 'http://www.digital.nyc/startups?page=372',\n",
       " 'http://www.digital.nyc/startups?page=373',\n",
       " 'http://www.digital.nyc/startups?page=374',\n",
       " 'http://www.digital.nyc/startups?page=375',\n",
       " 'http://www.digital.nyc/startups?page=376',\n",
       " 'http://www.digital.nyc/startups?page=377',\n",
       " 'http://www.digital.nyc/startups?page=378',\n",
       " 'http://www.digital.nyc/startups?page=379']"
      ]
     },
     "execution_count": 13,
     "metadata": {},
     "output_type": "execute_result"
    }
   ],
   "source": [
    "digital_nyc_startups_pages_list"
   ]
  },
  {
   "cell_type": "code",
   "execution_count": null,
   "metadata": {
    "collapsed": true
   },
   "outputs": [],
   "source": []
  },
  {
   "cell_type": "code",
   "execution_count": null,
   "metadata": {
    "collapsed": true
   },
   "outputs": [],
   "source": []
  },
  {
   "cell_type": "code",
   "execution_count": 139,
   "metadata": {
    "collapsed": false
   },
   "outputs": [
    {
     "name": "stdout",
     "output_type": "stream",
     "text": [
      "['http://www.digital.nyc/startups', 'http://www.digital.nyc/startups?page=1', 'http://www.digital.nyc/startups?page=2']\n"
     ]
    }
   ],
   "source": [
    "print digital_nyc_startups_pages_list[:3]"
   ]
  },
  {
   "cell_type": "markdown",
   "metadata": {},
   "source": [
    "# Pickle the itmes in digital_nyc_startups_pages_list"
   ]
  },
  {
   "cell_type": "code",
   "execution_count": 143,
   "metadata": {
    "collapsed": true
   },
   "outputs": [],
   "source": [
    "import pickle\n",
    "\n",
    "with file('digital_nyc_startups_pages_list.pickle', 'w') as f:\n",
    "    pickle.dump(digital_nyc_startups_pages_list, f)\n",
    "\n",
    "# If i ever need to load it again... use this:\n",
    "\n",
    "with file('digital_nyc_startups_pages_list.pickle') as f:\n",
    "    digital_nyc_startups_pages_list = pickle.load(f)"
   ]
  },
  {
   "cell_type": "code",
   "execution_count": 142,
   "metadata": {
    "collapsed": true
   },
   "outputs": [],
   "source": []
  },
  {
   "cell_type": "markdown",
   "metadata": {},
   "source": [
    "## Go through all those http://www.digital.nyc/startups/ links and compile a list of individual companies"
   ]
  },
  {
   "cell_type": "code",
   "execution_count": null,
   "metadata": {
    "collapsed": true
   },
   "outputs": [],
   "source": []
  },
  {
   "cell_type": "code",
   "execution_count": null,
   "metadata": {
    "collapsed": true
   },
   "outputs": [],
   "source": []
  },
  {
   "cell_type": "code",
   "execution_count": null,
   "metadata": {
    "collapsed": false
   },
   "outputs": [],
   "source": []
  },
  {
   "cell_type": "code",
   "execution_count": 14,
   "metadata": {
    "collapsed": false
   },
   "outputs": [],
   "source": [
    "def get_company_links(startup_url):\n",
    "    '''This takes some webpage like http://www.digital.nyc/startups?page=1\n",
    "    and returns a list of tuples (company_data_listof the form (company name, company url).\n",
    "    That object is called companies_list'''\n",
    "    response = requests.get(startup_url)\n",
    "    page_html = response.text\n",
    "    soup = BeautifulSoup(page_html)\n",
    "    # Retrieve all of the link tags\n",
    "    links_collection = soup.find_all('a')\n",
    "    companies_list = []\n",
    "    for link in links_collection:\n",
    "        try:\n",
    "            # There are some links without href -- this keeps the code from \n",
    "            # breaking when it gets to them\n",
    "            #print link[\"href\"]\n",
    "            if \"/startups/\" in link[\"href\"]:    #This selects only htose links of startups\n",
    "                #print True\n",
    "                company_url = \"http://www.digital.nyc/\" + str(link[\"href\"])\n",
    "                #print company_url\n",
    "                company_name = link[\"href\"][10:]\n",
    "                #print company_name\n",
    "                company_tuple = (company_name,company_url)\n",
    "                if company_tuple not in companies_list:\n",
    "                    companies_list.append(company_tuple)\n",
    "        except:\n",
    "            pass\n",
    "    return companies_list"
   ]
  },
  {
   "cell_type": "code",
   "execution_count": 15,
   "metadata": {
    "collapsed": true
   },
   "outputs": [],
   "source": [
    "big_list_of_company_websites = []"
   ]
  },
  {
   "cell_type": "markdown",
   "metadata": {},
   "source": [
    "# Warning the next step is going to take a really long time (it actually scrapes the web)"
   ]
  },
  {
   "cell_type": "code",
   "execution_count": 16,
   "metadata": {
    "collapsed": false
   },
   "outputs": [],
   "source": [
    "for webpage in digital_nyc_startups_pages_list:\n",
    "    #print webpage\n",
    "    #print get_company_links(fwebpage)\n",
    "    big_list_of_company_websites = big_list_of_company_websites + get_company_links(webpage)\n",
    "    #print"
   ]
  },
  {
   "cell_type": "code",
   "execution_count": 17,
   "metadata": {
    "collapsed": false
   },
   "outputs": [
    {
     "name": "stdout",
     "output_type": "stream",
     "text": [
      "7494\n"
     ]
    }
   ],
   "source": [
    "print len(big_list_of_company_websites)"
   ]
  },
  {
   "cell_type": "code",
   "execution_count": 144,
   "metadata": {
    "collapsed": true
   },
   "outputs": [],
   "source": [
    "import pickle\n",
    "\n",
    "with file('big_list_of_company_websites.pickle', 'w') as f:\n",
    "    pickle.dump(big_list_of_company_websites, f)\n",
    "\n",
    "# If i ever need to load it again... use this:\n",
    "\n",
    "with file('big_list_of_company_websites.pickle') as f:\n",
    "    big_list_of_company_websites = pickle.load(f)"
   ]
  },
  {
   "cell_type": "code",
   "execution_count": 18,
   "metadata": {
    "collapsed": false
   },
   "outputs": [
    {
     "data": {
      "text/plain": [
       "[('genesis', 'http://www.digital.nyc//startups/genesis'),\n",
       " ('yank-technologies-inc',\n",
       "  'http://www.digital.nyc//startups/yank-technologies-inc'),\n",
       " ('cinematcher', 'http://www.digital.nyc//startups/cinematcher'),\n",
       " ('1-atelier-llc', 'http://www.digital.nyc//startups/1-atelier-llc'),\n",
       " ('first-wall-street', 'http://www.digital.nyc//startups/first-wall-street'),\n",
       " ('httpwwwbluemailmediacom',\n",
       "  'http://www.digital.nyc//startups/httpwwwbluemailmediacom'),\n",
       " ('studytree', 'http://www.digital.nyc//startups/studytree'),\n",
       " ('heed-media', 'http://www.digital.nyc//startups/heed-media'),\n",
       " ('pips-island', 'http://www.digital.nyc//startups/pips-island'),\n",
       " ('raleigh-and-drake', 'http://www.digital.nyc//startups/raleigh-and-drake')]"
      ]
     },
     "execution_count": 18,
     "metadata": {},
     "output_type": "execute_result"
    }
   ],
   "source": [
    "big_list_of_company_websites[0:10]"
   ]
  },
  {
   "cell_type": "code",
   "execution_count": 19,
   "metadata": {
    "collapsed": false
   },
   "outputs": [],
   "source": [
    "# Saving it to csv just in case...\n",
    "import csv\n",
    "\n",
    "with open('big_list_of_company_websites.csv', 'wb') as myfile:\n",
    "    wr = csv.writer(myfile, quoting=csv.QUOTE_ALL)\n",
    "    wr.writerow(big_list_of_company_websites)"
   ]
  },
  {
   "cell_type": "code",
   "execution_count": 20,
   "metadata": {
    "collapsed": false
   },
   "outputs": [],
   "source": [
    "big_list_of_company_websites1 = big_list_of_company_websites[0:1000]\n",
    "big_list_of_company_websites2 = big_list_of_company_websites[1000:2000]\n",
    "big_list_of_company_websites3 = big_list_of_company_websites[2000:3000]\n",
    "big_list_of_company_websites4 = big_list_of_company_websites[3000:4000]\n",
    "big_list_of_company_websites5 = big_list_of_company_websites[4000:5000]\n",
    "big_list_of_company_websites6 = big_list_of_company_websites[5000:6000]\n",
    "big_list_of_company_websites7 = big_list_of_company_websites[6000:7000]\n",
    "big_list_of_company_websites8 = big_list_of_company_websites[7000:]"
   ]
  },
  {
   "cell_type": "code",
   "execution_count": 24,
   "metadata": {
    "collapsed": false
   },
   "outputs": [
    {
     "data": {
      "text/plain": [
       "1000"
      ]
     },
     "execution_count": 24,
     "metadata": {},
     "output_type": "execute_result"
    }
   ],
   "source": []
  },
  {
   "cell_type": "markdown",
   "metadata": {},
   "source": [
    "# Goes to Website, pulls out script, extracts out coordinates"
   ]
  },
  {
   "cell_type": "code",
   "execution_count": null,
   "metadata": {
    "collapsed": true
   },
   "outputs": [],
   "source": []
  },
  {
   "cell_type": "code",
   "execution_count": 109,
   "metadata": {
    "collapsed": false
   },
   "outputs": [],
   "source": [
    "def extract_location_data(url):\n",
    "    response = requests.get(url)\n",
    "    page_html = response.text\n",
    "    soup = BeautifulSoup(page_html)\n",
    "    \n",
    "    # Retrieve all of the script tags\n",
    "    scripts_collection = soup('script')\n",
    "    # Finds script associated with the google maps thing in the top right\n",
    "    #for i in range(0,len(scripts_collection)):\n",
    "    #    print i\n",
    "    #    print scripts_collection[i]\n",
    "    google_script_BSTag = scripts_collection[8]\n",
    "    # This is a bunch of stuff to make the script easy to work with\n",
    "    #print google_script_BSTag\n",
    "    google_script_string = str(google_script_BSTag)\n",
    "    google_script_string_dict_portion = google_script_string[39:len(google_script_string)-11]    # Removes the javascript/jquery grammer to just get the JSON portion\n",
    "\n",
    "    google_script_dict = json.loads(google_script_string_dict_portion)\n",
    "    #print google_script_dict['geofieldMap']\n",
    "\n",
    "    #pp = pprint.PrettyPrinter(depth=6)\n",
    "    #pp.pprint(google_script_dict)\n",
    "    # (There was a bunch of steps here nec. to determine where the lat long info was contained)\n",
    "\n",
    "    \n",
    "    # http://stackoverflow.com/questions/17106819/accessing-python-dict-values-with-the-key-start-characters\n",
    "    # It seems the key that looks like the following changes it's numbers ever time there's a new point. Since\n",
    "    # I can't predict the numbers, I'll just have create the key on the fly.\n",
    "    # [\"geofield-map-entity-node-965-field-geo-location\"]\n",
    "\n",
    "    geofield_etc_key = google_script_dict['geofieldMap'].keys()[0]\n",
    "    lat_long_list = google_script_dict['geofieldMap'][geofield_etc_key][\"data\"][\"coordinates\"]\n",
    "    return lat_long_list\n"
   ]
  },
  {
   "cell_type": "code",
   "execution_count": null,
   "metadata": {
    "collapsed": false
   },
   "outputs": [],
   "source": []
  },
  {
   "cell_type": "code",
   "execution_count": 110,
   "metadata": {
    "collapsed": false
   },
   "outputs": [
    {
     "data": {
      "text/plain": [
       "[-74.006, 40.7144]"
      ]
     },
     "execution_count": 110,
     "metadata": {},
     "output_type": "execute_result"
    }
   ],
   "source": [
    "extract_location_data(\"http://www.digital.nyc//startups/better-schools-everyone\")"
   ]
  },
  {
   "cell_type": "code",
   "execution_count": 93,
   "metadata": {
    "collapsed": false
   },
   "outputs": [
    {
     "data": {
      "text/plain": [
       "[('better-schools-everyone',\n",
       "  'http://www.digital.nyc//startups/better-schools-everyone'),\n",
       " ('foxotic', 'http://www.digital.nyc//startups/foxotic'),\n",
       " ('cheater-beater', 'http://www.digital.nyc//startups/cheater-beater'),\n",
       " ('vowched', 'http://www.digital.nyc//startups/vowched'),\n",
       " ('domainpaid-inc', 'http://www.digital.nyc//startups/domainpaid-inc'),\n",
       " ('prax-algorithm-designs',\n",
       "  'http://www.digital.nyc//startups/prax-algorithm-designs'),\n",
       " ('playdin-llc', 'http://www.digital.nyc//startups/playdin-llc'),\n",
       " ('ovenhotfoodgroup', 'http://www.digital.nyc//startups/ovenhotfoodgroup'),\n",
       " ('educo-kids-inc', 'http://www.digital.nyc//startups/educo-kids-inc'),\n",
       " ('palace-design', 'http://www.digital.nyc//startups/palace-design')]"
      ]
     },
     "execution_count": 93,
     "metadata": {},
     "output_type": "execute_result"
    }
   ],
   "source": [
    "big_list_of_company_websites4[0:10]"
   ]
  },
  {
   "cell_type": "code",
   "execution_count": 68,
   "metadata": {
    "collapsed": true
   },
   "outputs": [],
   "source": [
    "''' Commenting this out just to make sure peopel don't accidently erase the data\n",
    "full_list_company_data = []\n",
    "full_list_company_data1 = []\n",
    "full_list_company_data2 = []\n",
    "full_list_company_data3 = []\n",
    "full_list_company_data4 = []\n",
    "full_list_company_data5 = []\n",
    "full_list_company_data6 = []\n",
    "full_list_company_data7 = []\n",
    "full_list_company_data8 = []\n",
    "'''\n",
    "# Estimated it may take 30-1hr\n",
    "# #1 - Started at 11:43 -- done by 12:16\n",
    "# #2 - Started at 12:45 -- done by 1:07\n",
    "# #3 - Started at 1:08 -- done by \n",
    "# #4 - Started at  -- done by \n",
    "# #5 - Started at  -- done by \n",
    "# #6 - Started at  -- done by \n",
    "# #7 - Started at  -- done by \n",
    "# #8 - Started at  -- done by "
   ]
  },
  {
   "cell_type": "code",
   "execution_count": 133,
   "metadata": {
    "collapsed": false
   },
   "outputs": [],
   "source": [
    "full_list_company_data1 = []"
   ]
  },
  {
   "cell_type": "code",
   "execution_count": 134,
   "metadata": {
    "collapsed": false
   },
   "outputs": [
    {
     "name": "stdout",
     "output_type": "stream",
     "text": [
      "1 2 3 4 5 6 7 8 9 10 11 12 13 14 15 16 17 18 19 20 21 22 23 24 25 26 27 28 29 30 31 32 33 34 35 36 37 38 39 40 41 42 43 44 45 46 47 48 49 50 51 52 53 54 55 56 57 58 59 60 61 62 63 64 65 66 67 68 69 70 71 72 73 74 75 76 77 78 79 80 81 82 83 84 85 86 87 88 89 90 91 92 93 94 95 96 97 98 99 100 101 102 103 104 105 106 107 108 109 110 111 112 113 114 115 116 117 118 119 120 121 122 123 124 125 126 127 128 129 130 131 132 133 134 135 136 137 138 139 140 141 142 143 144 145 146 147 148 149 150 151 152 153 154 155 156 157 158 159 160 161 162 163 164 165 166 167 168 169 170 171 172 173 174 175 176 177 178 179 180 181 182 183 184 185 186 187 188 189 190 191 192 193 194 195 196 197 198 199 200 201 202 203 204 205 206 207 208 209 210 211 212 213 214 215 216 217 218 219 220 221 222 223 224 225 226 227 228 229 230 231 232 233 234 235 236 237 238 239 240 241 242 243 244 245 246 247 248 249 250 251 252 253 254 255 256 257 258 259 260 261 262 263 264 265 266 267 268 269 270 271 272 273 274 275 276 277 278 279 280 281 282 283 284 285 286 287 288 289 290 291 292 293 294 295 296 297 298 299 300 301 302 303 304 305 306 307 308 309 310 311 312 313 314 315 316 317 318 319 320 321 322 323 324 325 326 327 328 329 330 331 332 333 334 335 336 337 338 339 340 341 342 343 344 345 346 347 348 349 350 351 352 353 354 355 356 357 358 359 360 361 362 363 364 365 366 367 368 369 370 371 372 373 374 375 376 377 378 379 380 381 382 383 384 385 386 387 388 389 390 391 392 393 394 395 396 397 398 399 400 401 402 403 404 405 406 407 408 409 410 411 412 413 414 415 416 417 418 419 420 421 422 423 424 425 426 427 428 429 430 431 432 433 434 435 436 437 438 439 440 441 442 443 444 445 446 447 448 449 450 451 452 453 454 455 456 457 458 459 460 461 462 463 464 465 466 467 468 469 470 471 472 473 474 475 476 477 478 479 480 481 482 483 484 485 486 487 488 489 490 491 492 493 494 495 496 497 498 499 500 501 502 503 504 505 506 507 508 509 510 511 512 513 514 515 516 517 518 519 520 521 522 523 524 525 526 527 528 529 530 531 532 533 534 535 536 537 538 539 540 541 542 543 544 545 546 547 548 549 550 551 552 553 554 555 556 557 558 559 560 561 562 563 564 565 566 567 568 569 570 571 572 573 574 575 576 577 578 579 580 581 582 583 584 585 586 587 588 589 590 591 592 593 594 595 596 597 598 599 600 601 602 603 604 605 606 607 608 609 610 611 612 613 614 615 616 617 618 619 620 621 622 623 624 625 626 627 628 629 630 631 632 633 634 635 636 637 638 639 640 641 642 643 644 645 646 647 648 649 650 651 652 653 654 655 656 657 658 659 660 661 662 663 664 665 666 667 668 669 670 671 672 673 674 675 676 677 678 679 680 681 682 683 684 685 686 687 688 689 690 691 692 693 694 695 696 697 698 699 700 701 702 703 704 705 706 707 708 709 710 711 712 713 714 715 716 717 718 719 720 721 722 723 724 725 726 727 728 729 730 731 732 733 734 735 736 737 738 739 740 741 742 743 744 745 746 747 748 749 750 751 752 753 754 755 756 757 758 759 760 761 762 763 764 765 766 767 768 769 770 771 772 773 774 775 776 777 778 779 780 781 782 783 784 785 786 787 788 789 790 791 792 793 794 795 796 797 798 799 800 801 802 803 804 805 806 807 808 809 810 811 812 813 814 815 816 817 818 819 820 821 822 823 824 825 826 827 828 829 830 831 832 833 834 835 836 837 838 839 840 841 842 843 844 845 846 847 848 849 850 851 852 853 854 855 856 857 858 859 860 861 862 863 864 865 866 867 868 869 870 871 872 873 874 875 876 877 878 879 880 881 882 883 884 885 886 887 888 889 890 891 892 893 894 895 896 897 898 899 900 901 902 903 904 905 906 907 908 909 910 911 912 913 914 915 916 917 918 919 920 921 922 923 924 925 926 927 928 929 930 931 932 933 934 935 936 937 938 939 940 941 942 943 944 945 946 947 948 949 950 951 952 953 954 955 956 957 958 959 960 961 962 963 964 965 966 967 968 969 970 971 972 973 974 975 976 977 978 979 980 981 982 983 984 985 986 987 988 989 990 991 992 993 994 995 996 997 998 999 1000\n"
     ]
    }
   ],
   "source": [
    "''' This worked to get the first 3 sets of distance data but seemed to stop afterwards'''\n",
    "\n",
    "counter = 0\n",
    "for company_name_and_link in big_list_of_company_websites1:\n",
    "    name = company_name_and_link[0]\n",
    "    link = company_name_and_link[1]\n",
    "    counter += 1\n",
    "    print counter,\n",
    "    try:\n",
    "        location = extract_location_data(link)\n",
    "        longitude = location[0]\n",
    "        latitude = location[1]\n",
    "        company_tuple_full = (name,link,latitude,longitude)\n",
    "        full_list_company_data1.append(company_tuple_full)\n",
    "    except:\n",
    "        pass\n",
    "\n"
   ]
  },
  {
   "cell_type": "code",
   "execution_count": 108,
   "metadata": {
    "collapsed": false
   },
   "outputs": [],
   "source": []
  },
  {
   "cell_type": "code",
   "execution_count": null,
   "metadata": {
    "collapsed": false
   },
   "outputs": [],
   "source": []
  },
  {
   "cell_type": "code",
   "execution_count": 136,
   "metadata": {
    "collapsed": false
   },
   "outputs": [
    {
     "name": "stdout",
     "output_type": "stream",
     "text": [
      "Total Websites to Scrape: 1000 Total Companies w/ scraped Lat/Long Data 939\n",
      "Total Websites to Scrape: 1000 Total Companies w/ scraped Lat/Long Data 980\n",
      "Total Websites to Scrape: 1000 Total Companies w/ scraped Lat/Long Data 913\n",
      "Total Websites to Scrape: 1000 Total Companies w/ scraped Lat/Long Data 999\n",
      "Total Websites to Scrape: 1000 Total Companies w/ scraped Lat/Long Data 1000\n",
      "Total Websites to Scrape: 1000 Total Companies w/ scraped Lat/Long Data 996\n",
      "Total Websites to Scrape: 1000 Total Companies w/ scraped Lat/Long Data 1000\n",
      "Total Websites to Scrape: 494 Total Companies w/ scraped Lat/Long Data 400\n"
     ]
    }
   ],
   "source": [
    "print \"Total Websites to Scrape:\", len(big_list_of_company_websites1), \"Total Companies w/ scraped Lat/Long Data\", len(full_list_company_data1)\n",
    "print \"Total Websites to Scrape:\", len(big_list_of_company_websites2), \"Total Companies w/ scraped Lat/Long Data\", len(full_list_company_data2)\n",
    "print \"Total Websites to Scrape:\", len(big_list_of_company_websites3), \"Total Companies w/ scraped Lat/Long Data\", len(full_list_company_data3)\n",
    "print \"Total Websites to Scrape:\", len(big_list_of_company_websites4), \"Total Companies w/ scraped Lat/Long Data\", len(full_list_company_data4)\n",
    "print \"Total Websites to Scrape:\", len(big_list_of_company_websites5), \"Total Companies w/ scraped Lat/Long Data\", len(full_list_company_data5)\n",
    "print \"Total Websites to Scrape:\", len(big_list_of_company_websites6), \"Total Companies w/ scraped Lat/Long Data\", len(full_list_company_data6)\n",
    "print \"Total Websites to Scrape:\", len(big_list_of_company_websites7), \"Total Companies w/ scraped Lat/Long Data\", len(full_list_company_data7)\n",
    "print \"Total Websites to Scrape:\", len(big_list_of_company_websites8), \"Total Companies w/ scraped Lat/Long Data\", len(full_list_company_data8)\n"
   ]
  },
  {
   "cell_type": "code",
   "execution_count": null,
   "metadata": {
    "collapsed": false
   },
   "outputs": [],
   "source": []
  },
  {
   "cell_type": "code",
   "execution_count": 138,
   "metadata": {
    "collapsed": false
   },
   "outputs": [],
   "source": [
    "full_list_company_data = full_list_company_data1 + full_list_company_data2 + full_list_company_data3 + full_list_company_data4 +full_list_company_data5 + full_list_company_data6 + full_list_company_data7 + full_list_company_data8"
   ]
  },
  {
   "cell_type": "code",
   "execution_count": 131,
   "metadata": {
    "collapsed": false
   },
   "outputs": [
    {
     "data": {
      "text/plain": [
       "7227"
      ]
     },
     "execution_count": 131,
     "metadata": {},
     "output_type": "execute_result"
    }
   ],
   "source": [
    "len(full_list_company_data)"
   ]
  },
  {
   "cell_type": "code",
   "execution_count": 137,
   "metadata": {
    "collapsed": false
   },
   "outputs": [],
   "source": [
    "with open('full_list_company_data.csv', 'wb') as myfile:\n",
    "    wr = csv.writer(myfile, quoting=csv.QUOTE_ALL)\n",
    "    wr.writerow(big_list_of_company_websites)"
   ]
  },
  {
   "cell_type": "code",
   "execution_count": 145,
   "metadata": {
    "collapsed": false
   },
   "outputs": [],
   "source": [
    "import pickle\n",
    "\n",
    "with file('full_list_company_data.pickle', 'w') as f:\n",
    "    pickle.dump(full_list_company_data, f)\n",
    "\n",
    "# If i ever need to load it again... use this:\n",
    "\n",
    "with file('full_list_company_data.pickle') as f:\n",
    "    full_list_company_data = pickle.load(f)"
   ]
  },
  {
   "cell_type": "code",
   "execution_count": 146,
   "metadata": {
    "collapsed": false
   },
   "outputs": [
    {
     "name": "stdout",
     "output_type": "stream",
     "text": [
      "7227\n"
     ]
    }
   ],
   "source": [
    "print len(full_list_company_data)"
   ]
  },
  {
   "cell_type": "code",
   "execution_count": null,
   "metadata": {
    "collapsed": true
   },
   "outputs": [],
   "source": []
  }
 ],
 "metadata": {
  "kernelspec": {
   "display_name": "Python 2",
   "language": "python",
   "name": "python2"
  },
  "language_info": {
   "codemirror_mode": {
    "name": "ipython",
    "version": 2
   },
   "file_extension": ".py",
   "mimetype": "text/x-python",
   "name": "python",
   "nbconvert_exporter": "python",
   "pygments_lexer": "ipython2",
   "version": "2.7.11"
  }
 },
 "nbformat": 4,
 "nbformat_minor": 0
}
