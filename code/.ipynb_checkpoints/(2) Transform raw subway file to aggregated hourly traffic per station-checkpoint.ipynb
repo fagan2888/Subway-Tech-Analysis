{
 "cells": [
  {
   "cell_type": "markdown",
   "metadata": {},
   "source": [
    "# Steps:\n",
    "- Import series & Read in data\n",
    "- Basic cleaning & Series Formatting. \n",
    "- Remove outliers and abnormal counts (i.e. from subway maintenance)\n",
    "- Group by unique turnstyle\n",
    "- Find the \"traffic\" amount by getting the difference in hours\n",
    "- Group turnstyles based on being in the same station -- note: you can't rely just on station names, there needs to be syncronicity in station lines. (i.e. there are a few 42nd streets)\n",
    "- Output"
   ]
  },
  {
   "cell_type": "markdown",
   "metadata": {},
   "source": [
    "# - Import series & Read in data"
   ]
  },
  {
   "cell_type": "code",
   "execution_count": 51,
   "metadata": {
    "collapsed": true
   },
   "outputs": [],
   "source": [
    "import pandas as pd\n",
    "import datetime\n",
    "from dateutil.parser import parse\n",
    "from datetime import datetime"
   ]
  },
  {
   "cell_type": "code",
   "execution_count": 99,
   "metadata": {
    "collapsed": false
   },
   "outputs": [],
   "source": [
    "subway_week = pd.read_csv(\"../Resources/Data/Raw/mta-subway-volume/turnstile_160319_mod.csv\")"
   ]
  },
  {
   "cell_type": "markdown",
   "metadata": {},
   "source": [
    "# - Basic cleaning & Series Formatting. \n",
    "a) remove entries which aren't \"Regular\" (i.e. counts which are made for maintenance purposes and not on the hourly schedule)\n",
    "\n",
    "b) create date-type objects"
   ]
  },
  {
   "cell_type": "code",
   "execution_count": 100,
   "metadata": {
    "collapsed": true
   },
   "outputs": [],
   "source": [
    "# a) remove entries which aren't \"Regular\" (i.e. counts which are made for maintenance purposes and not on the hourly schedule)\n",
    "subway_week = subway_week[subway_week[\"DESC\"]==\"REGULAR\"]\n",
    "\n",
    "# This leads to some missing indicies indicies (e.g. 14733) which is leading into problems down the road.\n",
    "# ... so we will fix that\n",
    "# subway_week[14730:14740]\n",
    "subway_week.index = range(len(subway_week))"
   ]
  },
  {
   "cell_type": "code",
   "execution_count": 115,
   "metadata": {
    "collapsed": true
   },
   "outputs": [],
   "source": [
    "# Improvement Opportunity: Make date parsing faster via: http://ze.phyr.us/faster-strptime/\n",
    "subway_week[\"DATE\"] = [parse(date_string).date() for date_string in subway_week[\"DATE\"]]\n",
    "subway_week[\"TIME\"] = [parse(date_string).time() for date_string in subway_week[\"TIME\"]]"
   ]
  },
  {
   "cell_type": "code",
   "execution_count": 116,
   "metadata": {
    "collapsed": false
   },
   "outputs": [],
   "source": [
    "subway_week[\"DATE_TIME\"] = [datetime.combine(subway_week[\"DATE\"][i], subway_week[\"TIME\"][i]) for i in range(len(subway_week))]"
   ]
  },
  {
   "cell_type": "code",
   "execution_count": 84,
   "metadata": {
    "collapsed": false
   },
   "outputs": [],
   "source": [
    "subway_week.to_pickle(\"../Resources/Pickles/subway_traffic.pickle\")\n",
    "#subway_week = pd.read_pickle(\"../Resources/Pickles/subway_traffic.pickle\")"
   ]
  },
  {
   "cell_type": "code",
   "execution_count": null,
   "metadata": {
    "collapsed": true
   },
   "outputs": [],
   "source": []
  },
  {
   "cell_type": "code",
   "execution_count": null,
   "metadata": {
    "collapsed": true
   },
   "outputs": [],
   "source": []
  },
  {
   "cell_type": "code",
   "execution_count": 117,
   "metadata": {
    "collapsed": false
   },
   "outputs": [
    {
     "data": {
      "text/html": [
       "<div>\n",
       "<table border=\"1\" class=\"dataframe\">\n",
       "  <thead>\n",
       "    <tr style=\"text-align: right;\">\n",
       "      <th></th>\n",
       "      <th>C/A</th>\n",
       "      <th>UNIT</th>\n",
       "      <th>SCP</th>\n",
       "      <th>STATION</th>\n",
       "      <th>LINENAME</th>\n",
       "      <th>DIVISION</th>\n",
       "      <th>DATE</th>\n",
       "      <th>TIME</th>\n",
       "      <th>DESC</th>\n",
       "      <th>ENTRIES</th>\n",
       "      <th>EXITS</th>\n",
       "      <th>DATE_TIME</th>\n",
       "    </tr>\n",
       "  </thead>\n",
       "  <tbody>\n",
       "    <tr>\n",
       "      <th>0</th>\n",
       "      <td>A002</td>\n",
       "      <td>R051</td>\n",
       "      <td>02-00-00</td>\n",
       "      <td>59 ST</td>\n",
       "      <td>NQR456</td>\n",
       "      <td>BMT</td>\n",
       "      <td>2016-03-12</td>\n",
       "      <td>03:00:00</td>\n",
       "      <td>REGULAR</td>\n",
       "      <td>7468622</td>\n",
       "      <td>1884949</td>\n",
       "      <td>2016-03-12 03:00:00</td>\n",
       "    </tr>\n",
       "    <tr>\n",
       "      <th>1</th>\n",
       "      <td>A002</td>\n",
       "      <td>R051</td>\n",
       "      <td>02-00-00</td>\n",
       "      <td>59 ST</td>\n",
       "      <td>NQR456</td>\n",
       "      <td>BMT</td>\n",
       "      <td>2016-03-12</td>\n",
       "      <td>07:00:00</td>\n",
       "      <td>REGULAR</td>\n",
       "      <td>7468657</td>\n",
       "      <td>1884968</td>\n",
       "      <td>2016-03-12 07:00:00</td>\n",
       "    </tr>\n",
       "    <tr>\n",
       "      <th>2</th>\n",
       "      <td>A002</td>\n",
       "      <td>R051</td>\n",
       "      <td>02-00-00</td>\n",
       "      <td>59 ST</td>\n",
       "      <td>NQR456</td>\n",
       "      <td>BMT</td>\n",
       "      <td>2016-03-12</td>\n",
       "      <td>11:00:00</td>\n",
       "      <td>REGULAR</td>\n",
       "      <td>7468852</td>\n",
       "      <td>1885067</td>\n",
       "      <td>2016-03-12 11:00:00</td>\n",
       "    </tr>\n",
       "    <tr>\n",
       "      <th>3</th>\n",
       "      <td>A002</td>\n",
       "      <td>R051</td>\n",
       "      <td>02-00-00</td>\n",
       "      <td>59 ST</td>\n",
       "      <td>NQR456</td>\n",
       "      <td>BMT</td>\n",
       "      <td>2016-03-12</td>\n",
       "      <td>15:00:00</td>\n",
       "      <td>REGULAR</td>\n",
       "      <td>7469194</td>\n",
       "      <td>1885157</td>\n",
       "      <td>2016-03-12 15:00:00</td>\n",
       "    </tr>\n",
       "    <tr>\n",
       "      <th>4</th>\n",
       "      <td>A002</td>\n",
       "      <td>R051</td>\n",
       "      <td>02-00-00</td>\n",
       "      <td>59 ST</td>\n",
       "      <td>NQR456</td>\n",
       "      <td>BMT</td>\n",
       "      <td>2016-03-12</td>\n",
       "      <td>19:00:00</td>\n",
       "      <td>REGULAR</td>\n",
       "      <td>7469732</td>\n",
       "      <td>1885250</td>\n",
       "      <td>2016-03-12 19:00:00</td>\n",
       "    </tr>\n",
       "  </tbody>\n",
       "</table>\n",
       "</div>"
      ],
      "text/plain": [
       "    C/A  UNIT       SCP STATION LINENAME DIVISION        DATE      TIME  \\\n",
       "0  A002  R051  02-00-00   59 ST   NQR456      BMT  2016-03-12  03:00:00   \n",
       "1  A002  R051  02-00-00   59 ST   NQR456      BMT  2016-03-12  07:00:00   \n",
       "2  A002  R051  02-00-00   59 ST   NQR456      BMT  2016-03-12  11:00:00   \n",
       "3  A002  R051  02-00-00   59 ST   NQR456      BMT  2016-03-12  15:00:00   \n",
       "4  A002  R051  02-00-00   59 ST   NQR456      BMT  2016-03-12  19:00:00   \n",
       "\n",
       "      DESC  ENTRIES  \\\n",
       "0  REGULAR  7468622   \n",
       "1  REGULAR  7468657   \n",
       "2  REGULAR  7468852   \n",
       "3  REGULAR  7469194   \n",
       "4  REGULAR  7469732   \n",
       "\n",
       "   EXITS                                                                 \\\n",
       "0                                            1884949                      \n",
       "1                                            1884968                      \n",
       "2                                            1885067                      \n",
       "3                                            1885157                      \n",
       "4                                            1885250                      \n",
       "\n",
       "            DATE_TIME  \n",
       "0 2016-03-12 03:00:00  \n",
       "1 2016-03-12 07:00:00  \n",
       "2 2016-03-12 11:00:00  \n",
       "3 2016-03-12 15:00:00  \n",
       "4 2016-03-12 19:00:00  "
      ]
     },
     "execution_count": 117,
     "metadata": {},
     "output_type": "execute_result"
    }
   ],
   "source": [
    "small = subway_week.head()\n",
    "small"
   ]
  }
 ],
 "metadata": {
  "kernelspec": {
   "display_name": "Python 2",
   "language": "python",
   "name": "python2"
  },
  "language_info": {
   "codemirror_mode": {
    "name": "ipython",
    "version": 2
   },
   "file_extension": ".py",
   "mimetype": "text/x-python",
   "name": "python",
   "nbconvert_exporter": "python",
   "pygments_lexer": "ipython2",
   "version": "2.7.11"
  }
 },
 "nbformat": 4,
 "nbformat_minor": 0
}
