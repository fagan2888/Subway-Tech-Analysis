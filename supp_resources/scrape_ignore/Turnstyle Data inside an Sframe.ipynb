{
 "cells": [
  {
   "cell_type": "markdown",
   "metadata": {},
   "source": [
    "#1) Set-Up of necessairy libraries"
   ]
  },
  {
   "cell_type": "code",
   "execution_count": 1,
   "metadata": {
    "collapsed": false
   },
   "outputs": [
    {
     "name": "stderr",
     "output_type": "stream",
     "text": [
      "A newer version of GraphLab Create (v1.8.5) is available! Your current version is v1.7.1.\n",
      "\n",
      "You can use pip to upgrade the graphlab-create package. For more information see https://dato.com/products/create/upgrade.\n"
     ]
    }
   ],
   "source": [
    "import graphlab\n",
    "from graphlab import SFrame\n"
   ]
  },
  {
   "cell_type": "markdown",
   "metadata": {},
   "source": [
    "# 2) Pull in data from the outside"
   ]
  },
  {
   "cell_type": "code",
   "execution_count": 4,
   "metadata": {
    "collapsed": false
   },
   "outputs": [
    {
     "name": "stdout",
     "output_type": "stream",
     "text": [
      "PROGRESS: Finished parsing file /Users/Zhanna/Documents/Coding_Projects/Metis/My_work/Challenges/01-benson/turnstile_160319.txt\n",
      "PROGRESS: Parsing completed. Parsed 191890 lines in 1.05033 secs.\n"
     ]
    }
   ],
   "source": [
    "data =  SFrame.read_csv(\"turnstile_160319.txt\",\n",
    "                        column_type_hints=[str,str,str,str,str,str,str,str,str,int,int])\n"
   ]
  },
  {
   "cell_type": "code",
   "execution_count": 6,
   "metadata": {
    "collapsed": false
   },
   "outputs": [],
   "source": []
  },
  {
   "cell_type": "markdown",
   "metadata": {},
   "source": [
    "#3) See what features/columns our data has"
   ]
  },
  {
   "cell_type": "code",
   "execution_count": 5,
   "metadata": {
    "collapsed": false
   },
   "outputs": [
    {
     "name": "stdout",
     "output_type": "stream",
     "text": [
      "Canvas is updated and available in a tab in the default browser.\n"
     ]
    }
   ],
   "source": [
    "data.show()"
   ]
  },
  {
   "cell_type": "code",
   "execution_count": null,
   "metadata": {
    "collapsed": true
   },
   "outputs": [],
   "source": []
  },
  {
   "cell_type": "code",
   "execution_count": 9,
   "metadata": {
    "collapsed": false
   },
   "outputs": [
    {
     "data": {
      "text/plain": [
       "['C/A',\n",
       " 'UNIT',\n",
       " 'SCP',\n",
       " 'STATION',\n",
       " 'LINENAME',\n",
       " 'DIVISION',\n",
       " 'DATE',\n",
       " 'TIME',\n",
       " 'DESC',\n",
       " 'ENTRIES',\n",
       " 'EXITS']"
      ]
     },
     "execution_count": 9,
     "metadata": {},
     "output_type": "execute_result"
    }
   ],
   "source": [
    "data.column_names()"
   ]
  },
  {
   "cell_type": "code",
   "execution_count": 13,
   "metadata": {
    "collapsed": false
   },
   "outputs": [
    {
     "data": {
      "text/plain": [
       "['__abs__',\n",
       " '__add__',\n",
       " '__and__',\n",
       " '__class__',\n",
       " '__contains__',\n",
       " '__delattr__',\n",
       " '__div__',\n",
       " '__doc__',\n",
       " '__eq__',\n",
       " '__floordiv__',\n",
       " '__format__',\n",
       " '__ge__',\n",
       " '__get_content_identifier__',\n",
       " '__getattribute__',\n",
       " '__getitem__',\n",
       " '__gt__',\n",
       " '__hash__',\n",
       " '__init__',\n",
       " '__is_materialized__',\n",
       " '__iter__',\n",
       " '__le__',\n",
       " '__len__',\n",
       " '__lt__',\n",
       " '__materialize__',\n",
       " '__mod__',\n",
       " '__module__',\n",
       " '__mul__',\n",
       " '__ne__',\n",
       " '__neg__',\n",
       " '__new__',\n",
       " '__nonzero__',\n",
       " '__or__',\n",
       " '__pos__',\n",
       " '__pow__',\n",
       " '__proxy__',\n",
       " '__radd__',\n",
       " '__rdiv__',\n",
       " '__reduce__',\n",
       " '__reduce_ex__',\n",
       " '__repr__',\n",
       " '__rfloordiv__',\n",
       " '__rmod__',\n",
       " '__rmul__',\n",
       " '__rpow__',\n",
       " '__rsub__',\n",
       " '__rtruediv__',\n",
       " '__setattr__',\n",
       " '__sizeof__',\n",
       " '__slots__',\n",
       " '__str__',\n",
       " '__sub__',\n",
       " '__subclasshook__',\n",
       " '__truediv__',\n",
       " '_count_ngrams',\n",
       " '_count_words',\n",
       " '_escape_space',\n",
       " '_getitem_cache',\n",
       " '_save_as_text',\n",
       " 'all',\n",
       " 'any',\n",
       " 'append',\n",
       " 'apply',\n",
       " 'argmax',\n",
       " 'argmin',\n",
       " 'astype',\n",
       " 'clip',\n",
       " 'clip_lower',\n",
       " 'clip_upper',\n",
       " 'contains',\n",
       " 'date_range',\n",
       " 'datetime_to_str',\n",
       " 'dict_has_all_keys',\n",
       " 'dict_has_any_keys',\n",
       " 'dict_keys',\n",
       " 'dict_trim_by_keys',\n",
       " 'dict_trim_by_values',\n",
       " 'dict_values',\n",
       " 'dropna',\n",
       " 'dtype',\n",
       " 'fillna',\n",
       " 'filter',\n",
       " 'from_avro',\n",
       " 'from_const',\n",
       " 'from_sequence',\n",
       " 'head',\n",
       " 'item_length',\n",
       " 'max',\n",
       " 'mean',\n",
       " 'min',\n",
       " 'nnz',\n",
       " 'num_missing',\n",
       " 'pixel_array_to_image',\n",
       " 'sample',\n",
       " 'save',\n",
       " 'show',\n",
       " 'size',\n",
       " 'sketch_summary',\n",
       " 'sort',\n",
       " 'split_datetime',\n",
       " 'std',\n",
       " 'str_to_datetime',\n",
       " 'subslice',\n",
       " 'sum',\n",
       " 'tail',\n",
       " 'to_numpy',\n",
       " 'topk_index',\n",
       " 'unique',\n",
       " 'unpack',\n",
       " 'var',\n",
       " 'vector_slice']"
      ]
     },
     "execution_count": 13,
     "metadata": {},
     "output_type": "execute_result"
    }
   ],
   "source": [
    "#data['TIME'] = data['TIME'].astype(\"datetime.datetime\")\n",
    "#data['DATE '] = data['DATE'].astype(\"datetime.datetime\")\n",
    "\n",
    "dir(data['DATE'])"
   ]
  },
  {
   "cell_type": "code",
   "execution_count": null,
   "metadata": {
    "collapsed": true
   },
   "outputs": [],
   "source": []
  }
 ],
 "metadata": {
  "kernelspec": {
   "display_name": "Python 2",
   "language": "python",
   "name": "python2"
  },
  "language_info": {
   "codemirror_mode": {
    "name": "ipython",
    "version": 2
   },
   "file_extension": ".py",
   "mimetype": "text/x-python",
   "name": "python",
   "nbconvert_exporter": "python",
   "pygments_lexer": "ipython2",
   "version": "2.7.11"
  }
 },
 "nbformat": 4,
 "nbformat_minor": 0
}
